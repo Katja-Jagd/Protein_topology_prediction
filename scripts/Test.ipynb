{
  "cells": [
    {
      "cell_type": "markdown",
      "source": [
        "# Evaluating the performance of the models produced during 5-fold cross validation\n",
        "\n",
        "This notebook will reprodue the results of the report that is summarises the work of this repository.\n",
        "\n",
        "To run this notebook 5 files or folders is needed.\n",
        "\n",
        "  1) A csv file containing all protein ID's, there target values, lengths and  information about which proteins belong to each fold for cross validation. \n",
        "  2) A numpy file just containing the protein ID's \n",
        "  3) A file containing the predictions of the SOTA model DeepTMHMM \n",
        "  4) A folder containing the 5 trained models from the 5-fold cross validation \n",
        "  5) A folder containing 3544 protein encodings as .pt file (NB, 3.35 GB) \n",
        "\n",
        "\n",
        "The first 3 mentioned files can be found under the folder 'data' in this repository, and the folder containing the models is called 'models'.\n",
        "\n",
        "The last folder containing the 3544 protein encodings can be downloaded by using this link https://www.dropbox.com/scl/fo/fldja9rwecmcbgutn13nm/h?rlkey=m1mvj346eq7pgezr5fpxb7818&dl=0\n",
        "\n",
        "The pathes to the mentioned files/folders can be changed in the cell below and follows the numbering as stated above."
      ],
      "metadata": {
        "id": "ojuo8mzmXhvz"
      }
    },
    {
      "cell_type": "code",
      "source": [
        "PATH_1 = '/content/drive/My Drive/PTP_project/data/dataframe_ids_y_len_prot_fold.csv'\n",
        "PATH_2 = '/content/drive/My Drive/PTP_project/data/ids.npy'\n",
        "PATH_3 = '/content/drive/My Drive/PTP_project/data/DeepTMHMM.crossval.top.txt'\n",
        "PATH_4 = '/content/drive/My Drive/PTP_project/models/'\n",
        "PATH_5 = '/content/drive/My Drive/PTP_project/data/protein_encodings/'"
      ],
      "metadata": {
        "id": "-RxFiSaQfSoz"
      },
      "execution_count": null,
      "outputs": []
    },
    {
      "cell_type": "code",
      "execution_count": null,
      "metadata": {
        "colab": {
          "base_uri": "https://localhost:8080/"
        },
        "id": "-xSoeSyomSpI",
        "outputId": "5851d72f-88b7-42ff-caaa-4e3ea3dd32b1"
      },
      "outputs": [
        {
          "output_type": "stream",
          "name": "stdout",
          "text": [
            "Drive already mounted at /content/drive; to attempt to forcibly remount, call drive.mount(\"/content/drive\", force_remount=True).\n"
          ]
        }
      ],
      "source": [
        "from google.colab import drive\n",
        "drive.mount('/content/drive')"
      ]
    },
    {
      "cell_type": "code",
      "execution_count": null,
      "metadata": {
        "id": "0ZsJpMQPxHI8"
      },
      "outputs": [],
      "source": [
        "import torch\n",
        "from typing import List, Union\n",
        "import numpy as np\n",
        "import pandas as pd\n",
        "import math\n",
        "from torch import nn\n",
        "import torch.nn.functional as F\n",
        "import matplotlib.pyplot as plt\n",
        "from matplotlib.font_manager import FontProperties"
      ]
    },
    {
      "cell_type": "markdown",
      "metadata": {
        "id": "ooy6eOp-xsiL"
      },
      "source": [
        "#Extracting DeepTMHMM's predictions and ID's into a dictionary"
      ]
    },
    {
      "cell_type": "code",
      "execution_count": null,
      "metadata": {
        "id": "OiwFiJg6xjCv"
      },
      "outputs": [],
      "source": [
        "ids_array = np.load(PATH_2)\n",
        "input_file = PATH_3\n",
        "\n",
        "labels = {}\n",
        "\n",
        "# Open the text file for reading\n",
        "with open(input_file, 'r') as file:\n",
        "    lines = file.readlines()\n",
        "\n",
        "# Loop through the lines in the file\n",
        "for i in range(0, len(lines), 4):  # Process groups of 4 lines at a time\n",
        "    # Extract ID and prediction from the current group of lines\n",
        "    ID = lines[i].strip().lstrip('>')   # Remove newline characters\n",
        "    prediction = lines[i + 3].strip()\n",
        "    label = lines[i + 2].strip() # Assuming prediction is in the 4th line of each group\n",
        "    if ID in ids_array:\n",
        "        # Store the ID-prediction pair in the dictionary\n",
        "        labels[ID] = [prediction, label]"
      ]
    },
    {
      "cell_type": "markdown",
      "metadata": {
        "id": "MF0lF5FUx5lc"
      },
      "source": [
        "#Loading functions that the biological accuracy function is dependent on\n",
        "\n",
        "We are working with a tailored accuracy function, the biological accuracy function, as specified in the report. This function is dependend on the following four functions."
      ]
    },
    {
      "cell_type": "code",
      "execution_count": null,
      "metadata": {
        "id": "D_wwjuJjxzk0"
      },
      "outputs": [],
      "source": [
        "def label_list_to_topology(labels: Union[List[int], torch.Tensor]) -> List[torch.Tensor]:\n",
        "    \"\"\"\n",
        "    Converts a list of per-position labels to a topology representation.\n",
        "    This maps every sequence to list of where each new symbol start (the topology), e.g. AAABBBBCCC -> [(0,A),(3, B)(7,C)]\n",
        "\n",
        "    Parameters\n",
        "    ----------\n",
        "    labels : list or torch.Tensor of ints\n",
        "        List of labels.\n",
        "\n",
        "    Returns\n",
        "    -------\n",
        "    list of torch.Tensor\n",
        "        List of tensors that represents the topology.\n",
        "    \"\"\"\n",
        "\n",
        "    if isinstance(labels, list):\n",
        "        labels = torch.LongTensor(labels)\n",
        "\n",
        "    if isinstance(labels, torch.Tensor):\n",
        "        zero_tensor = torch.LongTensor([0])\n",
        "        if labels.is_cuda:\n",
        "            zero_tensor = zero_tensor.cuda()\n",
        "\n",
        "        unique, count = torch.unique_consecutive(labels, return_counts=True)\n",
        "        top_list = [torch.cat((zero_tensor, labels[0:1]))]\n",
        "        prev_count = 0\n",
        "        i = 0\n",
        "        for _ in unique.split(1):\n",
        "            if i == 0:\n",
        "                i += 1\n",
        "                continue\n",
        "            prev_count += count[i - 1]\n",
        "            top_list.append(torch.cat((prev_count.view(1), unique[i].view(1))))\n",
        "            i += 1\n",
        "        return top_list"
      ]
    },
    {
      "cell_type": "code",
      "execution_count": null,
      "metadata": {
        "id": "Vf_7nzqzyJAJ"
      },
      "outputs": [],
      "source": [
        "def is_topologies_equal(topology_a, topology_b, minimum_seqment_overlap=5):\n",
        "    \"\"\"\n",
        "    Checks whether two topologies are equal.\n",
        "    E.g. [(0,A),(3, B)(7,C)]  is the same as [(0,A),(4, B)(7,C)]\n",
        "    But not the same as [(0,A),(3, C)(7,B)]\n",
        "\n",
        "    Parameters\n",
        "    ----------\n",
        "    topology_a : list of torch.Tensor\n",
        "        First topology. See label_list_to_topology.\n",
        "    topology_b : list of torch.Tensor\n",
        "        Second topology. See label_list_to_topology.\n",
        "    minimum_seqment_overlap : int\n",
        "        Minimum overlap between two segments to be considered equal.\n",
        "\n",
        "    Returns\n",
        "    -------\n",
        "    bool\n",
        "        True if topologies are equal, False otherwise.\n",
        "    \"\"\"\n",
        "\n",
        "    if isinstance(topology_a[0], torch.Tensor):\n",
        "        topology_a = list([a.cpu().numpy() for a in topology_a])\n",
        "    if isinstance(topology_b[0], torch.Tensor):\n",
        "        topology_b = list([b.cpu().numpy() for b in topology_b])\n",
        "    if len(topology_a) != len(topology_b):\n",
        "        return False\n",
        "    for idx, (_position_a, label_a) in enumerate(topology_a):\n",
        "        if label_a != topology_b[idx][1]:\n",
        "            if (label_a in (1,2) and topology_b[idx][1] in (1,2)): # assume O == P\n",
        "                continue\n",
        "            else:\n",
        "                return False\n",
        "        if label_a in (3, 4, 5):\n",
        "            overlap_segment_start = max(topology_a[idx][0], topology_b[idx][0])\n",
        "            overlap_segment_end = min(topology_a[idx + 1][0], topology_b[idx + 1][0])\n",
        "            if label_a == 5:\n",
        "                # Set minimum segment overlap to 3 for Beta regions\n",
        "                minimum_seqment_overlap = 3\n",
        "            if overlap_segment_end - overlap_segment_start < minimum_seqment_overlap:\n",
        "                return False\n",
        "    return True"
      ]
    },
    {
      "cell_type": "code",
      "execution_count": null,
      "metadata": {
        "id": "jQENW43nyMf2"
      },
      "outputs": [],
      "source": [
        "def calculate_acc(correct, total):\n",
        "    total = total.float()\n",
        "    correct = correct.float()\n",
        "    if total == 0.0:\n",
        "        return 1\n",
        "    return correct / total"
      ]
    },
    {
      "cell_type": "code",
      "execution_count": null,
      "metadata": {
        "id": "G2P7qM_FyOPS"
      },
      "outputs": [],
      "source": [
        "def type_from_labels(label):\n",
        "    \"\"\"\n",
        "    Function that determines the protein type from labels\n",
        "\n",
        "    Dimension of each label:\n",
        "    (len_of_longenst_protein_in_batch)\n",
        "\n",
        "    # Residue class\n",
        "    0 = inside cell/cytosol (I)\n",
        "    1 = Outside cell/lumen of ER/Golgi/lysosomes (O)\n",
        "    2 = beta membrane (B)\n",
        "    3 = signal peptide (S)\n",
        "    4 = alpha membrane (M)\n",
        "    5 = periplasm (P)\n",
        "\n",
        "    B in the label sequence -> beta\n",
        "    I only -> globular\n",
        "    Both S and M -> SP + alpha(TM)\n",
        "    M -> alpha(TM)\n",
        "    S -> signal peptide\n",
        "\n",
        "    # Protein type class\n",
        "    0 = TM\n",
        "    1 = SP + TM\n",
        "    2 = SP\n",
        "    3 = GLOBULAR\n",
        "    4 = BETA\n",
        "    \"\"\"\n",
        "\n",
        "    if 2 in label:\n",
        "        ptype = 4\n",
        "\n",
        "    elif all(element == 0 for element in label):\n",
        "        ptype = 3\n",
        "\n",
        "    elif 3 in label and 4 in label:\n",
        "        ptype = 1\n",
        "\n",
        "    elif 3 in label:\n",
        "       ptype = 2\n",
        "\n",
        "    elif 4 in label:\n",
        "        ptype = 0\n",
        "\n",
        "    elif all(x == 0 or x == -1 for x in label):\n",
        "        ptype = 3\n",
        "\n",
        "    else:\n",
        "        ptype = None\n",
        "\n",
        "    return ptype"
      ]
    },
    {
      "cell_type": "markdown",
      "metadata": {
        "id": "CzVH5MsozA3W"
      },
      "source": [
        "# Loading the biological accuracy function"
      ]
    },
    {
      "cell_type": "code",
      "execution_count": null,
      "metadata": {
        "id": "16QX8nofyU8a"
      },
      "outputs": [],
      "source": [
        "def bio_acc_test(output, target):\n",
        "    \"\"\"\n",
        "    Functions that calculates a biological accuracy based on both\n",
        "    topology and protein type predictions\n",
        "    \"\"\"\n",
        "\n",
        "    confusion_matrix = torch.zeros((6,6),dtype = torch.int64)\n",
        "\n",
        "\n",
        "    for i in range(len(output)):\n",
        "\n",
        "        # Get topology\n",
        "        output_topology = label_list_to_topology(output[i])\n",
        "        target_topology = label_list_to_topology(target[i])\n",
        "\n",
        "        # Get protein type\n",
        "        output_type = type_from_labels(output[i])\n",
        "        target_type = type_from_labels(target[i])\n",
        "\n",
        "\n",
        "        # Check if topologies match\n",
        "        prediction_topology_match = is_topologies_equal(output_topology, target_topology, 5)\n",
        "\n",
        "        if target_type == output_type:\n",
        "            # if we guessed the type right for SP+GLOB or GLOB,\n",
        "            # count the topology as correct\n",
        "            if target_type == 2 or target_type == 3 or prediction_topology_match:\n",
        "                confusion_matrix[target_type][5] += 1\n",
        "            else:\n",
        "                confusion_matrix[target_type][output_type] += 1\n",
        "\n",
        "        else:\n",
        "            confusion_matrix[target_type][output_type] += 1\n",
        "\n",
        "    # Calculate individual class accuracy for protein type prediction\n",
        "    tm_type_acc = float(calculate_acc(confusion_matrix[0][0] + confusion_matrix[0][5], confusion_matrix[0].sum()))\n",
        "    tm_sp_type_acc = float(calculate_acc(confusion_matrix[1][1] + confusion_matrix[1][5], confusion_matrix[1].sum()))\n",
        "    sp_type_acc = float(calculate_acc(confusion_matrix[2][2] + confusion_matrix[2][5], confusion_matrix[2].sum()))\n",
        "    glob_type_acc = float(calculate_acc(confusion_matrix[3][3] + confusion_matrix[3][5], confusion_matrix[3].sum()))\n",
        "    beta_type_acc = float(calculate_acc(confusion_matrix[4][4] + confusion_matrix[4][5], confusion_matrix[4].sum()))\n",
        "\n",
        "    # Calculate individual class accuracy for protein topology prediction\n",
        "    tm_accuracy = float(calculate_acc(confusion_matrix[0][5], confusion_matrix[0].sum()))\n",
        "    sptm_accuracy = float(calculate_acc(confusion_matrix[1][5], confusion_matrix[1].sum()))\n",
        "    sp_accuracy = float(calculate_acc(confusion_matrix[2][5], confusion_matrix[2].sum()))\n",
        "    glob_accuracy = float(calculate_acc(confusion_matrix[3][5], confusion_matrix[3].sum()))\n",
        "    beta_accuracy = float(calculate_acc(confusion_matrix[4][5], confusion_matrix[4].sum()))\n",
        "\n",
        "    # Calculate average accuracy for protein type prediction\n",
        "    type_correct_ratio = (tm_type_acc + tm_sp_type_acc + sp_type_acc + glob_type_acc + beta_type_acc) / 5\n",
        "\n",
        "    # New naming\n",
        "    #type_accuracy = (tm_type_acc + tm_sp_type_acc + sp_type_acc + glob_type_acc + beta_type_acc) / 5\n",
        "\n",
        "    # Calculate average accuracy for protein topology prediction\n",
        "    topology_correct_ratio = (tm_accuracy + sptm_accuracy + sp_accuracy + glob_accuracy + beta_accuracy) / 5\n",
        "\n",
        "    # Combined accuracy score for topology and type prediction\n",
        "\n",
        "    total_accuracy = (type_correct_ratio + topology_correct_ratio) / 2\n",
        "\n",
        "    return confusion_matrix, type_correct_ratio, tm_type_acc, tm_sp_type_acc, sp_type_acc, glob_type_acc, beta_type_acc, tm_accuracy, sptm_accuracy, sp_accuracy, glob_accuracy, beta_accuracy"
      ]
    },
    {
      "cell_type": "markdown",
      "metadata": {
        "id": "bwhNC3MzzGyE"
      },
      "source": [
        "# Extract all DeepTMHMM's predictions and targets in seperate lists ready for input to the biological accuracy function\n",
        "\n",
        "As we want to compare our results with the SOTA model DeepTMHMM, we evaluate their predictions using the biological accuracy function"
      ]
    },
    {
      "cell_type": "code",
      "execution_count": null,
      "metadata": {
        "id": "-5hIRW2Uzio4"
      },
      "outputs": [],
      "source": [
        "predictions = []\n",
        "targets = []\n",
        "for value in labels.values():\n",
        "    # Remane residues in ground truth\n",
        "    value[0] = value[0].replace('I', '0')\n",
        "    value[0] = value[0].replace('O', '1')\n",
        "    value[0] = value[0].replace('P', '2')\n",
        "    value[0] = value[0].replace('S', '3')\n",
        "    value[0] = value[0].replace('M', '4')\n",
        "    value[0] = value[0].replace('B', '5')\n",
        "    # Remane residues in prediction\n",
        "    value[1] = value[1].replace('I', '0')\n",
        "    value[1] = value[1].replace('O', '1')\n",
        "    value[1] = value[1].replace('P', '2')\n",
        "    value[1] = value[1].replace('S', '3')\n",
        "    value[1] = value[1].replace('M', '4')\n",
        "    value[1] = value[1].replace('B', '5')\n",
        "\n",
        "    targets.append(value[1])\n",
        "    predictions.append(value[0])\n",
        "\n",
        "for i in range(len(predictions)):\n",
        "    predictions[i] = [int(x) for x in predictions[i]]\n",
        "    targets[i] = [int(x) for x in targets[i]]"
      ]
    },
    {
      "cell_type": "code",
      "execution_count": null,
      "metadata": {
        "id": "BMG-KU1H0h9s"
      },
      "outputs": [],
      "source": [
        "confusion_matrix_1, type_correct_ratio_1, tm_type_acc_1, tm_sp_type_acc_1, sp_type_acc_1, glob_type_acc_1, beta_type_acc_1, tm_accuracy_1, sptm_accuracy_1, sp_accuracy_1, glob_accuracy_1, beta_accuracy_1 = bio_acc_test(predictions, targets)"
      ]
    },
    {
      "cell_type": "code",
      "execution_count": null,
      "metadata": {
        "colab": {
          "base_uri": "https://localhost:8080/"
        },
        "id": "MzGaeTZy0kF5",
        "outputId": "72fe3ea4-3f4b-47f7-d16f-b5849676e043"
      },
      "outputs": [
        {
          "output_type": "stream",
          "name": "stdout",
          "text": [
            "DeepTMHMM accuracy results: \n",
            "Alpha TM type: \t \t 0.9608355164527893, Alpha TM topology: \t 0.8355091214179993\n",
            "Alpha TM+SP type: \t 0.970588207244873, Alpha TM+SP topology: \t 0.9215686321258545\n",
            "SP+Globular type: \t 0.9482071995735168, SP+Globular topology: \t 0.9462151527404785\n",
            "Globular type: \t \t 0.9661432504653931, Globular topology: \t 0.9607458114624023\n",
            "Beta type: \t \t 1.0,\t\t\t Beta topology: \t 0.8125\n"
          ]
        }
      ],
      "source": [
        "print(f'DeepTMHMM accuracy results: \\nAlpha TM type: \\t \\t {tm_type_acc_1}, Alpha TM topology: \\t {tm_accuracy_1}\\nAlpha TM+SP type: \\t {tm_sp_type_acc_1}, Alpha TM+SP topology: \\t {sptm_accuracy_1}\\nSP+Globular type: \\t {sp_type_acc_1}, SP+Globular topology: \\t {sp_accuracy_1}\\nGlobular type: \\t \\t {glob_type_acc_1}, Globular topology: \\t {glob_accuracy_1}\\nBeta type: \\t \\t {beta_type_acc_1},\\t\\t\\t Beta topology: \\t {beta_accuracy_1}')"
      ]
    },
    {
      "cell_type": "markdown",
      "metadata": {
        "id": "CEiXDmyt4_vJ"
      },
      "source": [
        "# Loading in functions for required for loading the data\n",
        "\n",
        "To load in our data, we need to load in the encodings and pad to the longest sequence in the batch. This is done using the suboptimal data loader function create_batches(). As mentioned in the report, this will be changed for future work to make the code more computationally efficient."
      ]
    },
    {
      "cell_type": "code",
      "execution_count": null,
      "metadata": {
        "id": "8dFNqS1_4-10"
      },
      "outputs": [],
      "source": [
        "def create_batches(data_set, batch_size, X_path):\n",
        "\n",
        "    # Sorting the sequences by length\n",
        "    sorted_df = data_set.sort_values('len_prot')\n",
        "\n",
        "    # Calculating the number of batches\n",
        "    n_batches = math.ceil(len(data_set) / batch_size)\n",
        "\n",
        "    # Initiating the result arrays\n",
        "    batches_X, batches_y, batches_len = [], [], []\n",
        "\n",
        "    # Creating the batches\n",
        "    for batch in range(n_batches):\n",
        "\n",
        "        X_batch = []\n",
        "        y_batch = []\n",
        "        max_len = []\n",
        "\n",
        "        # Calculate the start and end indices for the batch\n",
        "        start_idx = batch * batch_size\n",
        "        end_idx = (batch + 1) * batch_size\n",
        "\n",
        "        # Finding the longest protein in the batch\n",
        "        max_len = max(sorted_df[start_idx:end_idx]['len_prot'].values)\n",
        "\n",
        "        # Loading in the relevant X.pt files in the order of the ids of the batch\n",
        "        ids_batch = sorted_df[start_idx:end_idx]['ids'].values\n",
        "\n",
        "        for i in range(len(ids_batch)):\n",
        "\n",
        "            # Load ESM-IF1 encoding\n",
        "            ESM_encoding = torch.load(f'{X_path}{ids_batch[i]}.pt')\n",
        "\n",
        "            # 0 pad so all proteins in the batch have the same length\n",
        "            pad = nn.ConstantPad2d((0,0,0,(max_len - ESM_encoding.size(0))), 0)\n",
        "            tmp_x = pad(ESM_encoding)\n",
        "            X_batch.append(tmp_x)\n",
        "\n",
        "        # Turn into tensors and collect each batch in a list\n",
        "        X_batch = torch.stack(X_batch, dim=0)\n",
        "        batches_X.append(X_batch)\n",
        "\n",
        "        # Define labels from the df that belongs to the batch\n",
        "        y_batch_string = sorted_df[start_idx:end_idx]['y'].values\n",
        "\n",
        "        # -1 pad all labels\n",
        "        for i in range(len(y_batch_string)):\n",
        "            # Convert string to a list of integers\n",
        "            int_list = [int(x) for x in y_batch_string[i]]\n",
        "            padded_list = int_list + [-1] * (max_len - len(int_list))\n",
        "            y_batch.append(padded_list)\n",
        "\n",
        "        # Turn into tensors and collect each batch in a list\n",
        "        y_batch = torch.tensor(y_batch, dtype=torch.float)\n",
        "        batches_y.append(y_batch)\n",
        "\n",
        "        # Saving the size of the batch\n",
        "        batches_len.append(len(ids_batch))\n",
        "\n",
        "    return batches_X, batches_y, batches_len"
      ]
    },
    {
      "cell_type": "code",
      "execution_count": null,
      "metadata": {
        "id": "Jfc8huTb5NhD"
      },
      "outputs": [],
      "source": [
        "def create_train_val_test(train_folds, val_fold, test_fold, path):\n",
        "    df = pd.read_csv(path)\n",
        "\n",
        "    # Training set\n",
        "    train_set = df[df['fold'].isin(train_folds)]\n",
        "\n",
        "    # Validation set\n",
        "    val_set = df[df.fold == val_fold]\n",
        "\n",
        "    # Test setv\n",
        "    test_set = df[df.fold == test_fold]\n",
        "\n",
        "    return train_set, val_set, test_set"
      ]
    },
    {
      "cell_type": "markdown",
      "metadata": {
        "id": "OOKQTSvd69dI"
      },
      "source": [
        "# Load in Model architecture used for training"
      ]
    },
    {
      "cell_type": "code",
      "execution_count": null,
      "metadata": {
        "id": "LjrIXRGK685a"
      },
      "outputs": [],
      "source": [
        "class Model4(nn.Module):\n",
        "    def __init__(self, input_size=512, hidden_size=64, num_classes=6, dropout_prob=0.5):\n",
        "        super(Model4, self).__init__()\n",
        "\n",
        "        # Bidirectional LSTM layer\n",
        "        self.lstm = nn.LSTM(input_size, hidden_size, batch_first=True, bidirectional=True)\n",
        "\n",
        "        # Dense layers with dropout\n",
        "        self.fc1 = nn.Linear(hidden_size * 2, hidden_size)  # Bidirectional LSTM, so multiply hidden_size by 2\n",
        "        self.activation = torch.nn.ReLU()\n",
        "        self.dropout = nn.Dropout(p=dropout_prob)\n",
        "        self.fc2 = nn.Linear(hidden_size, num_classes)\n",
        "\n",
        "    def forward(self, x):\n",
        "        # LSTM layer\n",
        "        lstm_output, _ = self.lstm(x)\n",
        "\n",
        "        # Feedforward through dense layers\n",
        "        x = self.fc1(lstm_output)\n",
        "        x = self.activation(x)\n",
        "        x = self.dropout(x)\n",
        "        x = self.fc2(x)\n",
        "\n",
        "        return x\n",
        "\n",
        "model = Model4()"
      ]
    },
    {
      "cell_type": "markdown",
      "metadata": {
        "id": "Zba-PFoT5cFn"
      },
      "source": [
        "# Loading in the our test data and our 5 trained models from 5-fold cross validation\n",
        "\n",
        "NB as a consequence of the suboptimal data loader function and the many big .pt encoding files, this cell takes ~ 20-30 min. to run"
      ]
    },
    {
      "cell_type": "code",
      "execution_count": null,
      "metadata": {
        "id": "NPqrX4Tb5bXG"
      },
      "outputs": [],
      "source": [
        "predictions = []\n",
        "targets = []\n",
        "\n",
        "splits = [([0, 1, 2], 3, 4),\n",
        "          ([1, 2, 3], 4, 0),\n",
        "          ([2, 3, 4], 0, 1),\n",
        "          ([3, 4, 0], 1, 2),\n",
        "          ([4, 0, 1], 2, 3)]\n",
        "\n",
        "\n",
        "for i in range(len(splits)):\n",
        "\n",
        "    test_predictions = []\n",
        "\n",
        "    # Fetch test set\n",
        "    _, _, test_set = create_train_val_test(*splits[i], PATH_1)\n",
        "\n",
        "    # split test set into batches\n",
        "    batches_X_test, batches_y_test, _ = create_batches(test_set, 30, PATH_5) # CHANGE PATH HERE TO THE FOLDER CONTAINING THE ENCODINGS\n",
        "\n",
        "    # Load in trained model cooresponding to the current split\n",
        "    model.load_state_dict(torch.load(f'{PATH_4}model.{i+1}.pt'))\n",
        "\n",
        "    # Set model to evaluate mode\n",
        "    model.eval()\n",
        "\n",
        "    # Save predictions for all proteins in all batches\n",
        "    for i in range(len(batches_X_test)):\n",
        "        output = model(batches_X_test[i])\n",
        "        softmax_output = F.softmax(output, dim = 2)\n",
        "        prediction = softmax_output.argmax(axis = 2)\n",
        "        test_predictions.append(prediction)\n",
        "\n",
        "    # Shorten predictions and target values to original length without -1 padding\n",
        "    for i in range(len(test_predictions)):\n",
        "        for j in range(len(test_predictions[i])):\n",
        "            if (batches_y_test[i][j] == -1).any():\n",
        "                predictions.append(test_predictions[i][j][0:(batches_y_test[i][j] == -1).nonzero()[0].item()])\n",
        "                targets.append(batches_y_test[i][j][0:(batches_y_test[i][j] == -1).nonzero()[0].item()])\n",
        "            else:\n",
        "                predictions.append(test_predictions[i][j])\n",
        "                targets.append(batches_y_test[i][j])\n"
      ]
    },
    {
      "cell_type": "code",
      "execution_count": null,
      "metadata": {
        "id": "fpEAEXVd6hvT"
      },
      "outputs": [],
      "source": [
        "confusion_matrix, type_correct_ratio, tm_type_acc, tm_sp_type_acc, sp_type_acc, glob_type_acc, beta_type_acc, tm_accuracy, sptm_accuracy, sp_accuracy, glob_accuracy, beta_accuracy = bio_acc_test(predictions, targets)"
      ]
    },
    {
      "cell_type": "code",
      "execution_count": null,
      "metadata": {
        "colab": {
          "base_uri": "https://localhost:8080/"
        },
        "id": "fE_zTi1g9yD5",
        "outputId": "1cce1103-8f69-44c2-a5bf-c67dfc11cde8"
      },
      "outputs": [
        {
          "output_type": "stream",
          "name": "stdout",
          "text": [
            "Our accuracy results: \n",
            "Alpha TM type: \t \t 0.7696078419685364, Alpha TM topology: \t 0.05637254938483238\n",
            "Alpha TM+SP type: \t 0.7589285969734192, Alpha TM+SP topology: \t 0.1428571492433548\n",
            "SP+Globular type: \t 0.8626570701599121, SP+Globular topology: \t 0.8411130905151367\n",
            "Globular type: \t \t 0.8090642094612122, Globular topology: \t 0.7754930853843689\n",
            "Beta type: \t \t 1.0,\t\t\t Beta topology: \t 0.03658536449074745\n"
          ]
        }
      ],
      "source": [
        "print(f'Our accuracy results: \\nAlpha TM type: \\t \\t {tm_type_acc}, Alpha TM topology: \\t {tm_accuracy}\\nAlpha TM+SP type: \\t {tm_sp_type_acc}, Alpha TM+SP topology: \\t {sptm_accuracy}\\nSP+Globular type: \\t {sp_type_acc}, SP+Globular topology: \\t {sp_accuracy}\\nGlobular type: \\t \\t {glob_type_acc}, Globular topology: \\t {glob_accuracy}\\nBeta type: \\t \\t {beta_type_acc},\\t\\t\\t Beta topology: \\t {beta_accuracy}')"
      ]
    },
    {
      "cell_type": "code",
      "source": [
        "import numpy as np\n",
        "import matplotlib.pyplot as plt\n",
        "from matplotlib.font_manager import FontProperties\n",
        "\n",
        "categories = [\"\\u03B1-TM type\", \"\\u03B1-SP+TM type\", \"SP+Globular type\",\n",
        "    \"Globular type\", \"\\u03B2-barrels type\", \"\\u03B1-TM topology\", \"\\u03B1-SP+TM topology\",\n",
        "    \"SP+Globular topology\", \"Globular topology\", \"\\u03B2-barrels topology\"\n",
        "]\n",
        "\n",
        "# DeepTMHMM performance results\n",
        "values1 = [\n",
        "    tm_type_acc_1, tm_sp_type_acc_1, sp_type_acc_1, glob_type_acc_1, beta_type_acc_1, tm_accuracy_1, sptm_accuracy_1, sp_accuracy_1, glob_accuracy_1, beta_accuracy_1\n",
        "]\n",
        "\n",
        "# Our performance results\n",
        "values2 = [tm_type_acc, tm_sp_type_acc, sp_type_acc, glob_type_acc,\n",
        "    beta_type_acc, tm_accuracy, sptm_accuracy, sp_accuracy, glob_accuracy, beta_accuracy\n",
        "]\n",
        "\n",
        "\n",
        "colors1 = 'b'\n",
        "colors2 = 'g'\n",
        "\n",
        "x = np.arange(len(categories))\n",
        "bar_width = 0.35\n",
        "fig, ax = plt.subplots(figsize=(10, 5))\n",
        "bars1 = ax.bar(x - bar_width/2, values1, bar_width, color=colors1, label='DeepTMHMM', edgecolor='black')\n",
        "bars2 = ax.bar(x + bar_width/2, values2, bar_width, color=colors2, label='This work', edgecolor='black')\n",
        "ax.set_ylabel('Accuracy', fontsize=14, fontweight='bold')\n",
        "ax.set_xticks(x)\n",
        "ax.set_xticklabels(categories, rotation=45, ha='right', fontsize=12, fontweight='bold')\n",
        "ax.tick_params(axis='y', labelsize=12)\n",
        "\n",
        "for label in ax.get_yticklabels():\n",
        "    label.set_fontweight('bold')\n",
        "\n",
        "legend = ax.legend(fontsize=10, fancybox=True, framealpha=1, edgecolor='black', loc='upper center', bbox_to_anchor=(1, -0.15))\n",
        "\n",
        "legend.get_title().set_fontsize(12)\n",
        "for text in legend.get_texts():\n",
        "    text.set_fontsize(10)\n",
        "\n",
        "plt.tight_layout()\n",
        "plt.show()"
      ],
      "metadata": {
        "colab": {
          "base_uri": "https://localhost:8080/",
          "height": 508
        },
        "id": "XKNxz8YJqBim",
        "outputId": "91a7dabd-eba7-4549-823b-33341042b589"
      },
      "execution_count": null,
      "outputs": [
        {
          "output_type": "display_data",
          "data": {
            "text/plain": [
              "<Figure size 1000x500 with 1 Axes>"
            ],
            "image/png": "[encoded data removed]"
          },
          "metadata": {}
        }
      ]
    }
  ],
  "metadata": {
    "colab": {
      "provenance": []
    },
    "kernelspec": {
      "display_name": "Python 3",
      "name": "python3"
    },
    "language_info": {
      "name": "python"
    }
  },
  "nbformat": 4,
  "nbformat_minor": 0
}
